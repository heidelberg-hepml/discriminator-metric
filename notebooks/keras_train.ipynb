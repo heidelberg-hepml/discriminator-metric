{
 "cells": [
  {
   "cell_type": "code",
   "execution_count": 1,
   "metadata": {},
   "outputs": [
    {
     "name": "stderr",
     "output_type": "stream",
     "text": [
      "2023-04-08 07:41:39.810349: I tensorflow/core/platform/cpu_feature_guard.cc:182] This TensorFlow binary is optimized to use available CPU instructions in performance-critical operations.\n",
      "To enable the following instructions: AVX2 FMA, in other operations, rebuild TensorFlow with the appropriate compiler flags.\n",
      "2023-04-08 07:41:40.690505: W tensorflow/compiler/tf2tensorrt/utils/py_utils.cc:38] TF-TRT Warning: Could not find TensorRT\n"
     ]
    }
   ],
   "source": [
    "import numpy as np\n",
    "import awkward0\n",
    "import tensorflow as tf\n",
    "import os\n",
    "from tensorflow import keras\n",
    "from matplotlib import pyplot as plt"
   ]
  },
  {
   "cell_type": "code",
   "execution_count": 2,
   "metadata": {},
   "outputs": [
    {
     "name": "stdout",
     "output_type": "stream",
     "text": [
      "/home/rd804/discriminator-metric\n"
     ]
    }
   ],
   "source": [
    "cd .."
   ]
  },
  {
   "cell_type": "code",
   "execution_count": 3,
   "metadata": {},
   "outputs": [],
   "source": [
    "from scripts.particlenet_models import get_particle_net, get_particle_net_lite\n",
    "from scripts.particlenet_utils import *"
   ]
  },
  {
   "cell_type": "code",
   "execution_count": 5,
   "metadata": {},
   "outputs": [
    {
     "name": "stdout",
     "output_type": "stream",
     "text": [
      "3 Physical GPUs, 3 Logical GPUs\n"
     ]
    },
    {
     "name": "stderr",
     "output_type": "stream",
     "text": [
      "2023-04-08 03:01:21.461348: I tensorflow/core/common_runtime/gpu/gpu_device.cc:1635] Created device /job:localhost/replica:0/task:0/device:GPU:0 with 8747 MB memory:  -> device: 0, name: Tesla P100-PCIE-16GB, pci bus id: 0000:02:00.0, compute capability: 6.0\n",
      "2023-04-08 03:01:21.462144: I tensorflow/core/common_runtime/gpu/gpu_device.cc:1635] Created device /job:localhost/replica:0/task:0/device:GPU:1 with 13877 MB memory:  -> device: 1, name: Tesla P100-PCIE-16GB, pci bus id: 0000:81:00.0, compute capability: 6.0\n",
      "2023-04-08 03:01:21.462709: I tensorflow/core/common_runtime/gpu/gpu_device.cc:1635] Created device /job:localhost/replica:0/task:0/device:GPU:2 with 12541 MB memory:  -> device: 2, name: Tesla P100-PCIE-16GB, pci bus id: 0000:82:00.0, compute capability: 6.0\n"
     ]
    }
   ],
   "source": [
    "gpus = tf.config.list_physical_devices('GPU')\n",
    "if gpus:\n",
    "  try:\n",
    "    # Currently, memory growth needs to be the same across GPUs\n",
    "    for gpu in gpus:\n",
    "      tf.config.experimental.set_memory_growth(gpu, True)\n",
    "    logical_gpus = tf.config.list_logical_devices('GPU')\n",
    "    print(len(gpus), \"Physical GPUs,\", len(logical_gpus), \"Logical GPUs\")\n",
    "  except RuntimeError as e:\n",
    "    # Memory growth must be set before GPUs have been initialized\n",
    "    print(e)"
   ]
  },
  {
   "cell_type": "code",
   "execution_count": 4,
   "metadata": {},
   "outputs": [],
   "source": [
    "exp_name = ''"
   ]
  },
  {
   "cell_type": "code",
   "execution_count": 5,
   "metadata": {},
   "outputs": [],
   "source": []
  },
  {
   "cell_type": "code",
   "execution_count": 6,
   "metadata": {},
   "outputs": [],
   "source": []
  },
  {
   "cell_type": "code",
   "execution_count": 29,
   "metadata": {},
   "outputs": [],
   "source": []
  },
  {
   "cell_type": "code",
   "execution_count": 7,
   "metadata": {},
   "outputs": [
    {
     "name": "stderr",
     "output_type": "stream",
     "text": [
      "[2023-04-08 03:01:54,318] INFO: Start loading file data/converted/train_file.awkd\n",
      "[2023-04-08 03:01:57,749] INFO: Finished loading file data/converted/train_file.awkd\n",
      "[2023-04-08 03:01:57,754] INFO: Start loading file data/converted/val_file.awkd\n",
      "[2023-04-08 03:01:58,915] INFO: Finished loading file data/converted/val_file.awkd\n"
     ]
    }
   ],
   "source": [
    "train_dataset = Dataset('data/converted/train_file.awkd', data_format='channel_last')\n",
    "val_dataset = Dataset('data/converted/val_file.awkd', data_format='channel_last')"
   ]
  },
  {
   "cell_type": "code",
   "execution_count": null,
   "metadata": {},
   "outputs": [],
   "source": []
  },
  {
   "cell_type": "code",
   "execution_count": null,
   "metadata": {},
   "outputs": [],
   "source": []
  },
  {
   "cell_type": "code",
   "execution_count": 33,
   "metadata": {},
   "outputs": [],
   "source": [
    "from tensorflow import keras\n",
    "from scripts.particlenet_models import get_particle_net, get_particle_net_lite"
   ]
  },
  {
   "cell_type": "code",
   "execution_count": 34,
   "metadata": {
    "scrolled": true
   },
   "outputs": [],
   "source": [
    "model_type = 'particle_net_lite' # choose between 'particle_net' and 'particle_net_lite'\n",
    "num_classes = train_dataset.y.shape[1]\n",
    "input_shapes = {k:train_dataset[k].shape[1:] for k in train_dataset.X}\n",
    "if 'lite' in model_type:\n",
    "    model = get_particle_net_lite(2, input_shapes)\n",
    "else:\n",
    "    model = get_particle_net(2, input_shapes)"
   ]
  },
  {
   "cell_type": "code",
   "execution_count": 35,
   "metadata": {},
   "outputs": [
    {
     "data": {
      "text/plain": [
       "(121793, 2)"
      ]
     },
     "execution_count": 35,
     "metadata": {},
     "output_type": "execute_result"
    }
   ],
   "source": [
    "train_dataset.y.shape"
   ]
  },
  {
   "cell_type": "code",
   "execution_count": 36,
   "metadata": {},
   "outputs": [],
   "source": [
    "# Training parameters\n",
    "batch_size = 1024 if 'lite' in model_type else 384\n",
    "epochs = 2"
   ]
  },
  {
   "cell_type": "code",
   "execution_count": 37,
   "metadata": {},
   "outputs": [],
   "source": []
  },
  {
   "cell_type": "code",
   "execution_count": 38,
   "metadata": {
    "scrolled": true
   },
   "outputs": [
    {
     "name": "stderr",
     "output_type": "stream",
     "text": [
      "[2023-04-07 07:44:28,809] INFO: Learning rate: 0.001000\n"
     ]
    },
    {
     "name": "stdout",
     "output_type": "stream",
     "text": [
      "Model: \"ParticleNet\"\n",
      "__________________________________________________________________________________________________\n",
      " Layer (type)                   Output Shape         Param #     Connected to                     \n",
      "==================================================================================================\n",
      " mask (InputLayer)              [(None, 100, 1)]     0           []                               \n",
      "                                                                                                  \n",
      " tf.math.not_equal_1 (TFOpLambd  (None, 100, 1)      0           ['mask[0][0]']                   \n",
      " a)                                                                                               \n",
      "                                                                                                  \n",
      " tf.cast_2 (TFOpLambda)         (None, 100, 1)       0           ['tf.math.not_equal_1[0][0]']    \n",
      "                                                                                                  \n",
      " tf.math.equal_1 (TFOpLambda)   (None, 100, 1)       0           ['tf.cast_2[0][0]']              \n",
      "                                                                                                  \n",
      " tf.cast_3 (TFOpLambda)         (None, 100, 1)       0           ['tf.math.equal_1[0][0]']        \n",
      "                                                                                                  \n",
      " tf.math.multiply_8 (TFOpLambda  (None, 100, 1)      0           ['tf.cast_3[0][0]']              \n",
      " )                                                                                                \n",
      "                                                                                                  \n",
      " points (InputLayer)            [(None, 100, 2)]     0           []                               \n",
      "                                                                                                  \n",
      " tf.math.add_2 (TFOpLambda)     (None, 100, 2)       0           ['tf.math.multiply_8[0][0]',     \n",
      "                                                                  'points[0][0]']                 \n",
      "                                                                                                  \n",
      " features (InputLayer)          [(None, 100, 4)]     0           []                               \n",
      "                                                                                                  \n",
      " tf.compat.v1.transpose_4 (TFOp  (None, 2, 100)      0           ['tf.math.add_2[0][0]']          \n",
      " Lambda)                                                                                          \n",
      "                                                                                                  \n",
      " tf.expand_dims_7 (TFOpLambda)  (None, 100, 1, 4)    0           ['features[0][0]']               \n",
      "                                                                                                  \n",
      " tf.math.multiply_9 (TFOpLambda  (None, 100, 2)      0           ['tf.math.add_2[0][0]',          \n",
      " )                                                                'tf.math.add_2[0][0]']          \n",
      "                                                                                                  \n",
      " tf.linalg.matmul_2 (TFOpLambda  (None, 100, 100)    0           ['tf.math.add_2[0][0]',          \n",
      " )                                                                'tf.compat.v1.transpose_4[0][0]'\n",
      "                                                                 ]                                \n",
      "                                                                                                  \n",
      " tf.math.multiply_10 (TFOpLambd  (None, 100, 2)      0           ['tf.math.add_2[0][0]',          \n",
      " a)                                                               'tf.math.add_2[0][0]']          \n",
      "                                                                                                  \n",
      " ParticleNet_fts_bn (BatchNorma  (None, 100, 1, 4)   16          ['tf.expand_dims_7[0][0]']       \n",
      " lization)                                                                                        \n",
      "                                                                                                  \n",
      " tf.math.reduce_sum_4 (TFOpLamb  (None, 100, 1)      0           ['tf.math.multiply_9[0][0]']     \n",
      " da)                                                                                              \n",
      "                                                                                                  \n",
      " tf.math.multiply_11 (TFOpLambd  (None, 100, 100)    0           ['tf.linalg.matmul_2[0][0]']     \n",
      " a)                                                                                               \n",
      "                                                                                                  \n",
      " tf.math.reduce_sum_5 (TFOpLamb  (None, 100, 1)      0           ['tf.math.multiply_10[0][0]']    \n",
      " da)                                                                                              \n",
      "                                                                                                  \n",
      " tf.compat.v1.squeeze_3 (TFOpLa  (None, 100, 4)      0           ['ParticleNet_fts_bn[0][0]']     \n",
      " mbda)                                                                                            \n",
      "                                                                                                  \n",
      " tf.math.subtract_4 (TFOpLambda  (None, 100, 100)    0           ['tf.math.reduce_sum_4[0][0]',   \n",
      " )                                                                'tf.math.multiply_11[0][0]']    \n",
      "                                                                                                  \n",
      " tf.compat.v1.transpose_5 (TFOp  (None, 1, 100)      0           ['tf.math.reduce_sum_5[0][0]']   \n",
      " Lambda)                                                                                          \n",
      "                                                                                                  \n",
      " tf.compat.v1.shape_2 (TFOpLamb  (3,)                0           ['tf.compat.v1.squeeze_3[0][0]'] \n",
      " da)                                                                                              \n",
      "                                                                                                  \n",
      " tf.__operators__.add_4 (TFOpLa  (None, 100, 100)    0           ['tf.math.subtract_4[0][0]',     \n",
      " mbda)                                                            'tf.compat.v1.transpose_5[0][0]'\n",
      "                                                                 ]                                \n",
      "                                                                                                  \n",
      " tf.__operators__.getitem_5 (Sl  ()                  0           ['tf.compat.v1.shape_2[0][0]']   \n",
      " icingOpLambda)                                                                                   \n",
      "                                                                                                  \n",
      " tf.math.negative_2 (TFOpLambda  (None, 100, 100)    0           ['tf.__operators__.add_4[0][0]'] \n",
      " )                                                                                                \n",
      "                                                                                                  \n",
      " tf.range_2 (TFOpLambda)        (None,)              0           ['tf.__operators__.getitem_5[0][0\n",
      "                                                                 ]']                              \n",
      "                                                                                                  \n",
      " tf.math.top_k_2 (TFOpLambda)   TopKV2(values=(None  0           ['tf.math.negative_2[0][0]']     \n",
      "                                , 100, 8),                                                        \n",
      "                                 indices=(None, 100                                               \n",
      "                                , 8))                                                             \n",
      "                                                                                                  \n",
      " tf.reshape_2 (TFOpLambda)      (None, 1, 1, 1)      0           ['tf.range_2[0][0]']             \n",
      "                                                                                                  \n",
      " tf.__operators__.getitem_4 (Sl  (None, 100, 7)      0           ['tf.math.top_k_2[0][1]']        \n",
      " icingOpLambda)                                                                                   \n",
      "                                                                                                  \n",
      " tf.tile_4 (TFOpLambda)         (None, 100, 7, 1)    0           ['tf.reshape_2[0][0]']           \n",
      "                                                                                                  \n",
      " tf.expand_dims_8 (TFOpLambda)  (None, 100, 7, 1)    0           ['tf.__operators__.getitem_4[0][0\n",
      "                                                                 ]']                              \n",
      "                                                                                                  \n",
      " tf.expand_dims_9 (TFOpLambda)  (None, 100, 1, 4)    0           ['tf.compat.v1.squeeze_3[0][0]'] \n",
      "                                                                                                  \n",
      " tf.concat_4 (TFOpLambda)       (None, 100, 7, 2)    0           ['tf.tile_4[0][0]',              \n",
      "                                                                  'tf.expand_dims_8[0][0]']       \n",
      "                                                                                                  \n",
      " tf.tile_5 (TFOpLambda)         (None, 100, 7, 4)    0           ['tf.expand_dims_9[0][0]']       \n",
      "                                                                                                  \n",
      " tf.compat.v1.gather_nd_2 (TFOp  (None, 100, 7, 4)   0           ['tf.compat.v1.squeeze_3[0][0]', \n",
      " Lambda)                                                          'tf.concat_4[0][0]']            \n",
      "                                                                                                  \n",
      " tf.math.subtract_5 (TFOpLambda  (None, 100, 7, 4)   0           ['tf.compat.v1.gather_nd_2[0][0]'\n",
      " )                                                               , 'tf.tile_5[0][0]']             \n",
      "                                                                                                  \n",
      " tf.concat_5 (TFOpLambda)       (None, 100, 7, 8)    0           ['tf.tile_5[0][0]',              \n",
      "                                                                  'tf.math.subtract_5[0][0]']     \n",
      "                                                                                                  \n",
      " ParticleNet_EdgeConv0_conv0 (C  (None, 100, 7, 32)  256         ['tf.concat_5[0][0]']            \n",
      " onv2D)                                                                                           \n",
      "                                                                                                  \n",
      " ParticleNet_EdgeConv0_bn0 (Bat  (None, 100, 7, 32)  128         ['ParticleNet_EdgeConv0_conv0[0][\n",
      " chNormalization)                                                0]']                             \n",
      "                                                                                                  \n",
      " ParticleNet_EdgeConv0_act0 (Ac  (None, 100, 7, 32)  0           ['ParticleNet_EdgeConv0_bn0[0][0]\n",
      " tivation)                                                       ']                               \n",
      "                                                                                                  \n",
      " ParticleNet_EdgeConv0_conv1 (C  (None, 100, 7, 32)  1024        ['ParticleNet_EdgeConv0_act0[0][0\n",
      " onv2D)                                                          ]']                              \n",
      "                                                                                                  \n",
      " ParticleNet_EdgeConv0_bn1 (Bat  (None, 100, 7, 32)  128         ['ParticleNet_EdgeConv0_conv1[0][\n",
      " chNormalization)                                                0]']                             \n",
      "                                                                                                  \n",
      " ParticleNet_EdgeConv0_act1 (Ac  (None, 100, 7, 32)  0           ['ParticleNet_EdgeConv0_bn1[0][0]\n",
      " tivation)                                                       ']                               \n",
      "                                                                                                  \n",
      " tf.expand_dims_10 (TFOpLambda)  (None, 100, 1, 4)   0           ['tf.compat.v1.squeeze_3[0][0]'] \n",
      "                                                                                                  \n",
      " ParticleNet_EdgeConv0_conv2 (C  (None, 100, 7, 32)  1024        ['ParticleNet_EdgeConv0_act1[0][0\n",
      " onv2D)                                                          ]']                              \n",
      "                                                                                                  \n",
      " ParticleNet_EdgeConv0_sc_conv   (None, 100, 1, 32)  128         ['tf.expand_dims_10[0][0]']      \n",
      " (Conv2D)                                                                                         \n",
      "                                                                                                  \n",
      " ParticleNet_EdgeConv0_bn2 (Bat  (None, 100, 7, 32)  128         ['ParticleNet_EdgeConv0_conv2[0][\n",
      " chNormalization)                                                0]']                             \n",
      "                                                                                                  \n",
      " ParticleNet_EdgeConv0_sc_bn (B  (None, 100, 1, 32)  128         ['ParticleNet_EdgeConv0_sc_conv[0\n",
      " atchNormalization)                                              ][0]']                           \n",
      "                                                                                                  \n",
      " ParticleNet_EdgeConv0_act2 (Ac  (None, 100, 7, 32)  0           ['ParticleNet_EdgeConv0_bn2[0][0]\n",
      " tivation)                                                       ']                               \n",
      "                                                                                                  \n",
      " tf.compat.v1.squeeze_4 (TFOpLa  (None, 100, 32)     0           ['ParticleNet_EdgeConv0_sc_bn[0][\n",
      " mbda)                                                           0]']                             \n",
      "                                                                                                  \n",
      " tf.math.reduce_mean_3 (TFOpLam  (None, 100, 32)     0           ['ParticleNet_EdgeConv0_act2[0][0\n",
      " bda)                                                            ]']                              \n",
      "                                                                                                  \n",
      " tf.__operators__.add_5 (TFOpLa  (None, 100, 32)     0           ['tf.compat.v1.squeeze_4[0][0]', \n",
      " mbda)                                                            'tf.math.reduce_mean_3[0][0]']  \n",
      "                                                                                                  \n",
      " ParticleNet_EdgeConv0_sc_act (  (None, 100, 32)     0           ['tf.__operators__.add_5[0][0]'] \n",
      " Activation)                                                                                      \n",
      "                                                                                                  \n",
      " tf.math.add_3 (TFOpLambda)     (None, 100, 32)      0           ['tf.math.multiply_8[0][0]',     \n",
      "                                                                  'ParticleNet_EdgeConv0_sc_act[0]\n",
      "                                                                 [0]']                            \n",
      "                                                                                                  \n",
      " tf.compat.v1.transpose_6 (TFOp  (None, 32, 100)     0           ['tf.math.add_3[0][0]']          \n",
      " Lambda)                                                                                          \n",
      "                                                                                                  \n",
      " tf.math.multiply_12 (TFOpLambd  (None, 100, 32)     0           ['tf.math.add_3[0][0]',          \n",
      " a)                                                               'tf.math.add_3[0][0]']          \n",
      "                                                                                                  \n",
      " tf.linalg.matmul_3 (TFOpLambda  (None, 100, 100)    0           ['tf.math.add_3[0][0]',          \n",
      " )                                                                'tf.compat.v1.transpose_6[0][0]'\n",
      "                                                                 ]                                \n",
      "                                                                                                  \n",
      " tf.math.multiply_13 (TFOpLambd  (None, 100, 32)     0           ['tf.math.add_3[0][0]',          \n",
      " a)                                                               'tf.math.add_3[0][0]']          \n",
      "                                                                                                  \n",
      " tf.math.reduce_sum_6 (TFOpLamb  (None, 100, 1)      0           ['tf.math.multiply_12[0][0]']    \n",
      " da)                                                                                              \n",
      "                                                                                                  \n",
      " tf.math.multiply_14 (TFOpLambd  (None, 100, 100)    0           ['tf.linalg.matmul_3[0][0]']     \n",
      " a)                                                                                               \n",
      "                                                                                                  \n",
      " tf.math.reduce_sum_7 (TFOpLamb  (None, 100, 1)      0           ['tf.math.multiply_13[0][0]']    \n",
      " da)                                                                                              \n",
      "                                                                                                  \n",
      " tf.math.subtract_6 (TFOpLambda  (None, 100, 100)    0           ['tf.math.reduce_sum_6[0][0]',   \n",
      " )                                                                'tf.math.multiply_14[0][0]']    \n",
      "                                                                                                  \n",
      " tf.compat.v1.transpose_7 (TFOp  (None, 1, 100)      0           ['tf.math.reduce_sum_7[0][0]']   \n",
      " Lambda)                                                                                          \n",
      "                                                                                                  \n",
      " tf.compat.v1.shape_3 (TFOpLamb  (3,)                0           ['ParticleNet_EdgeConv0_sc_act[0]\n",
      " da)                                                             [0]']                            \n",
      "                                                                                                  \n",
      " tf.__operators__.add_6 (TFOpLa  (None, 100, 100)    0           ['tf.math.subtract_6[0][0]',     \n",
      " mbda)                                                            'tf.compat.v1.transpose_7[0][0]'\n",
      "                                                                 ]                                \n",
      "                                                                                                  \n",
      " tf.__operators__.getitem_7 (Sl  ()                  0           ['tf.compat.v1.shape_3[0][0]']   \n",
      " icingOpLambda)                                                                                   \n",
      "                                                                                                  \n",
      " tf.math.negative_3 (TFOpLambda  (None, 100, 100)    0           ['tf.__operators__.add_6[0][0]'] \n",
      " )                                                                                                \n",
      "                                                                                                  \n",
      " tf.range_3 (TFOpLambda)        (None,)              0           ['tf.__operators__.getitem_7[0][0\n",
      "                                                                 ]']                              \n",
      "                                                                                                  \n",
      " tf.math.top_k_3 (TFOpLambda)   TopKV2(values=(None  0           ['tf.math.negative_3[0][0]']     \n",
      "                                , 100, 8),                                                        \n",
      "                                 indices=(None, 100                                               \n",
      "                                , 8))                                                             \n",
      "                                                                                                  \n",
      " tf.reshape_3 (TFOpLambda)      (None, 1, 1, 1)      0           ['tf.range_3[0][0]']             \n",
      "                                                                                                  \n",
      " tf.__operators__.getitem_6 (Sl  (None, 100, 7)      0           ['tf.math.top_k_3[0][1]']        \n",
      " icingOpLambda)                                                                                   \n",
      "                                                                                                  \n",
      " tf.tile_6 (TFOpLambda)         (None, 100, 7, 1)    0           ['tf.reshape_3[0][0]']           \n",
      "                                                                                                  \n",
      " tf.expand_dims_11 (TFOpLambda)  (None, 100, 7, 1)   0           ['tf.__operators__.getitem_6[0][0\n",
      "                                                                 ]']                              \n",
      "                                                                                                  \n",
      " tf.expand_dims_12 (TFOpLambda)  (None, 100, 1, 32)  0           ['ParticleNet_EdgeConv0_sc_act[0]\n",
      "                                                                 [0]']                            \n",
      "                                                                                                  \n",
      " tf.concat_6 (TFOpLambda)       (None, 100, 7, 2)    0           ['tf.tile_6[0][0]',              \n",
      "                                                                  'tf.expand_dims_11[0][0]']      \n",
      "                                                                                                  \n",
      " tf.tile_7 (TFOpLambda)         (None, 100, 7, 32)   0           ['tf.expand_dims_12[0][0]']      \n",
      "                                                                                                  \n",
      " tf.compat.v1.gather_nd_3 (TFOp  (None, 100, 7, 32)  0           ['ParticleNet_EdgeConv0_sc_act[0]\n",
      " Lambda)                                                         [0]',                            \n",
      "                                                                  'tf.concat_6[0][0]']            \n",
      "                                                                                                  \n",
      " tf.math.subtract_7 (TFOpLambda  (None, 100, 7, 32)  0           ['tf.compat.v1.gather_nd_3[0][0]'\n",
      " )                                                               , 'tf.tile_7[0][0]']             \n",
      "                                                                                                  \n",
      " tf.concat_7 (TFOpLambda)       (None, 100, 7, 64)   0           ['tf.tile_7[0][0]',              \n",
      "                                                                  'tf.math.subtract_7[0][0]']     \n",
      "                                                                                                  \n",
      " ParticleNet_EdgeConv1_conv0 (C  (None, 100, 7, 64)  4096        ['tf.concat_7[0][0]']            \n",
      " onv2D)                                                                                           \n",
      "                                                                                                  \n",
      " ParticleNet_EdgeConv1_bn0 (Bat  (None, 100, 7, 64)  256         ['ParticleNet_EdgeConv1_conv0[0][\n",
      " chNormalization)                                                0]']                             \n",
      "                                                                                                  \n",
      " ParticleNet_EdgeConv1_act0 (Ac  (None, 100, 7, 64)  0           ['ParticleNet_EdgeConv1_bn0[0][0]\n",
      " tivation)                                                       ']                               \n",
      "                                                                                                  \n",
      " ParticleNet_EdgeConv1_conv1 (C  (None, 100, 7, 64)  4096        ['ParticleNet_EdgeConv1_act0[0][0\n",
      " onv2D)                                                          ]']                              \n",
      "                                                                                                  \n",
      " ParticleNet_EdgeConv1_bn1 (Bat  (None, 100, 7, 64)  256         ['ParticleNet_EdgeConv1_conv1[0][\n",
      " chNormalization)                                                0]']                             \n",
      "                                                                                                  \n",
      " ParticleNet_EdgeConv1_act1 (Ac  (None, 100, 7, 64)  0           ['ParticleNet_EdgeConv1_bn1[0][0]\n",
      " tivation)                                                       ']                               \n",
      "                                                                                                  \n",
      " tf.expand_dims_13 (TFOpLambda)  (None, 100, 1, 32)  0           ['ParticleNet_EdgeConv0_sc_act[0]\n",
      "                                                                 [0]']                            \n",
      "                                                                                                  \n",
      " ParticleNet_EdgeConv1_conv2 (C  (None, 100, 7, 64)  4096        ['ParticleNet_EdgeConv1_act1[0][0\n",
      " onv2D)                                                          ]']                              \n",
      "                                                                                                  \n",
      " ParticleNet_EdgeConv1_sc_conv   (None, 100, 1, 64)  2048        ['tf.expand_dims_13[0][0]']      \n",
      " (Conv2D)                                                                                         \n",
      "                                                                                                  \n",
      " ParticleNet_EdgeConv1_bn2 (Bat  (None, 100, 7, 64)  256         ['ParticleNet_EdgeConv1_conv2[0][\n",
      " chNormalization)                                                0]']                             \n",
      "                                                                                                  \n",
      " ParticleNet_EdgeConv1_sc_bn (B  (None, 100, 1, 64)  256         ['ParticleNet_EdgeConv1_sc_conv[0\n",
      " atchNormalization)                                              ][0]']                           \n",
      "                                                                                                  \n",
      " ParticleNet_EdgeConv1_act2 (Ac  (None, 100, 7, 64)  0           ['ParticleNet_EdgeConv1_bn2[0][0]\n",
      " tivation)                                                       ']                               \n",
      "                                                                                                  \n",
      " tf.compat.v1.squeeze_5 (TFOpLa  (None, 100, 64)     0           ['ParticleNet_EdgeConv1_sc_bn[0][\n",
      " mbda)                                                           0]']                             \n",
      "                                                                                                  \n",
      " tf.math.reduce_mean_4 (TFOpLam  (None, 100, 64)     0           ['ParticleNet_EdgeConv1_act2[0][0\n",
      " bda)                                                            ]']                              \n",
      "                                                                                                  \n",
      " tf.__operators__.add_7 (TFOpLa  (None, 100, 64)     0           ['tf.compat.v1.squeeze_5[0][0]', \n",
      " mbda)                                                            'tf.math.reduce_mean_4[0][0]']  \n",
      "                                                                                                  \n",
      " ParticleNet_EdgeConv1_sc_act (  (None, 100, 64)     0           ['tf.__operators__.add_7[0][0]'] \n",
      " Activation)                                                                                      \n",
      "                                                                                                  \n",
      " tf.math.multiply_15 (TFOpLambd  (None, 100, 64)     0           ['ParticleNet_EdgeConv1_sc_act[0]\n",
      " a)                                                              [0]',                            \n",
      "                                                                  'tf.cast_2[0][0]']              \n",
      "                                                                                                  \n",
      " tf.math.reduce_mean_5 (TFOpLam  (None, 64)          0           ['tf.math.multiply_15[0][0]']    \n",
      " bda)                                                                                             \n",
      "                                                                                                  \n",
      " dense_2 (Dense)                (None, 128)          8320        ['tf.math.reduce_mean_5[0][0]']  \n",
      "                                                                                                  \n",
      " dropout_1 (Dropout)            (None, 128)          0           ['dense_2[0][0]']                \n",
      "                                                                                                  \n",
      " dense_3 (Dense)                (None, 2)            258         ['dropout_1[0][0]']              \n",
      "                                                                                                  \n",
      "==================================================================================================\n",
      "Total params: 26,898\n",
      "Trainable params: 26,122\n",
      "Non-trainable params: 776\n",
      "__________________________________________________________________________________________________\n"
     ]
    }
   ],
   "source": [
    "model.compile(loss='categorical_crossentropy',\n",
    "              optimizer=keras.optimizers.Adam(learning_rate=lr_schedule(0)),\n",
    "              metrics=['accuracy'])\n",
    "#model.summary()"
   ]
  },
  {
   "cell_type": "code",
   "execution_count": 39,
   "metadata": {},
   "outputs": [],
   "source": [
    "# Prepare model model saving directory.\n",
    "save_dir = 'model_checkpoints'\n",
    "model_name = '%s_model.{epoch:03d}.h5' % model_type\n",
    "if not os.path.isdir(save_dir):\n",
    "    os.makedirs(save_dir)\n",
    "filepath = os.path.join(save_dir, model_name)\n",
    "\n",
    "class epoch_save(keras.callbacks.Callback):\n",
    "    def on_epoch_end(self, epoch, logs={}):\n",
    "        self.model.save(filepath.format(epoch=epoch, **logs))\n",
    "# Prepare callbacks for model saving and for learning rate adjustment.\n",
    "checkpoint = keras.callbacks.ModelCheckpoint(filepath=filepath,\n",
    "                             monitor='val_acc',\n",
    "                             verbose=1,\n",
    "                             save_best_only=True)\n",
    "\n",
    "lr_scheduler = keras.callbacks.LearningRateScheduler(lr_schedule)\n",
    "progress_bar = keras.callbacks.ProgbarLogger()\n",
    "callbacks = [checkpoint, lr_scheduler, progress_bar]"
   ]
  },
  {
   "cell_type": "code",
   "execution_count": 40,
   "metadata": {},
   "outputs": [
    {
     "data": {
      "text/plain": [
       "(121793, 100, 2)"
      ]
     },
     "execution_count": 40,
     "metadata": {},
     "output_type": "execute_result"
    }
   ],
   "source": []
  },
  {
   "cell_type": "code",
   "execution_count": 41,
   "metadata": {
    "scrolled": true
   },
   "outputs": [
    {
     "name": "stderr",
     "output_type": "stream",
     "text": [
      "[2023-04-07 07:44:44,237] INFO: Learning rate: 0.001000\n",
      "2023-04-07 07:44:50.210582: I tensorflow/compiler/xla/stream_executor/cuda/cuda_dnn.cc:424] Loaded cuDNN version 8600\n",
      "2023-04-07 07:44:52.073072: I tensorflow/compiler/xla/service/service.cc:169] XLA service 0x7fbff40e9f50 initialized for platform CUDA (this does not guarantee that XLA will be used). Devices:\n",
      "2023-04-07 07:44:52.073120: I tensorflow/compiler/xla/service/service.cc:177]   StreamExecutor device (0): Tesla P100-PCIE-16GB, Compute Capability 6.0\n",
      "2023-04-07 07:44:52.073134: I tensorflow/compiler/xla/service/service.cc:177]   StreamExecutor device (1): Tesla P100-PCIE-16GB, Compute Capability 6.0\n",
      "2023-04-07 07:44:52.073145: I tensorflow/compiler/xla/service/service.cc:177]   StreamExecutor device (2): Tesla P100-PCIE-16GB, Compute Capability 6.0\n",
      "2023-04-07 07:44:52.081760: I tensorflow/compiler/mlir/tensorflow/utils/dump_mlir_util.cc:269] disabling MLIR crash reproducer, set env var `MLIR_CRASH_REPRODUCER_DIRECTORY` to enable.\n",
      "2023-04-07 07:44:52.353360: I ./tensorflow/compiler/jit/device_compiler.h:180] Compiled cluster using XLA!  This line is logged at most once for the lifetime of the process.\n"
     ]
    },
    {
     "name": "stdout",
     "output_type": "stream",
     "text": [
      "      0/Unknown - 53s 0s/sample - loss: 0.6933 - accuracy: 0.5104"
     ]
    },
    {
     "name": "stderr",
     "output_type": "stream",
     "text": [
      "2023-04-07 07:45:37.871608: W tensorflow/tsl/framework/bfc_allocator.cc:296] Allocator (GPU_0_bfc) ran out of memory trying to allocate 7.89GiB with freed_by_count=0. The caller indicates that this is not a failure, but this may mean that there could be performance gains if more memory were available.\n"
     ]
    },
    {
     "name": "stdout",
     "output_type": "stream",
     "text": [
      "      0/Unknown - 54s 0s/sample - loss: 0.6932 - accuracy: 0.5104WARNING:tensorflow:Can save best model only with val_acc available, skipping.\n"
     ]
    },
    {
     "name": "stderr",
     "output_type": "stream",
     "text": [
      "[2023-04-07 07:45:52,880] WARNING: Can save best model only with val_acc available, skipping.\n"
     ]
    },
    {
     "name": "stdout",
     "output_type": "stream",
     "text": [
      "119/119 [==============================] - 69s 577ms/sample - loss: 0.6932 - accuracy: 0.5104 - val_loss: 0.6929 - val_accuracy: 0.5087 - lr: 0.0010\n"
     ]
    },
    {
     "data": {
      "text/plain": [
       "<keras.callbacks.History at 0x7fc31864ee90>"
      ]
     },
     "execution_count": 41,
     "metadata": {},
     "output_type": "execute_result"
    }
   ],
   "source": [
    "train_dataset.shuffle()\n",
    "model.fit(train_dataset.X, train_dataset.y,\n",
    "          batch_size=batch_size,\n",
    "#           epochs=epochs,\n",
    "          epochs=1, # --- train only for 1 epoch here for demonstration ---\n",
    "          validation_data=(val_dataset.X, val_dataset.y),\n",
    "          shuffle=True,\n",
    "          callbacks=callbacks)"
   ]
  },
  {
   "cell_type": "code",
   "execution_count": 4,
   "metadata": {},
   "outputs": [
    {
     "data": {
      "image/png": "[encoded data removed]",
      "text/plain": [
       "<Figure size 640x480 with 1 Axes>"
      ]
     },
     "metadata": {},
     "output_type": "display_data"
    }
   ],
   "source": [
    "epochs = list(range(20))\n",
    "lr_rate = [lr_schedule(epoch) for epoch in epochs]\n",
    "\n",
    "plt.plot(epochs, lr_rate)\n",
    "plt.xticks(epochs)\n",
    "plt.xlabel('Epoch')\n",
    "plt.ylabel('Learning rate')\n",
    "plt.show()\n"
   ]
  },
  {
   "cell_type": "code",
   "execution_count": 10,
   "metadata": {},
   "outputs": [
    {
     "data": {
      "text/plain": [
       "0.002325"
      ]
     },
     "execution_count": 10,
     "metadata": {},
     "output_type": "execute_result"
    }
   ],
   "source": [
    "epoch = 10\n",
    "3 * 1e-3 - (3 * 1e-3 - 3 * 1e-4) * (epoch - 8) / 8"
   ]
  },
  {
   "cell_type": "code",
   "execution_count": 9,
   "metadata": {},
   "outputs": [
    {
     "data": {
      "text/plain": [
       "[0, 1, 2, 3, 4, 5, 6, 7, 8, 9, 10, 11, 12, 13, 14, 15, 16, 17, 18, 19]"
      ]
     },
     "execution_count": 9,
     "metadata": {},
     "output_type": "execute_result"
    }
   ],
   "source": [
    "epochs"
   ]
  }
 ],
 "metadata": {
  "kernelspec": {
   "display_name": "Python 3",
   "language": "python",
   "name": "python3"
  },
  "language_info": {
   "codemirror_mode": {
    "name": "ipython",
    "version": 3
   },
   "file_extension": ".py",
   "mimetype": "text/x-python",
   "name": "python",
   "nbconvert_exporter": "python",
   "pygments_lexer": "ipython3",
   "version": "3.10.10"
  }
 },
 "nbformat": 4,
 "nbformat_minor": 2
}
