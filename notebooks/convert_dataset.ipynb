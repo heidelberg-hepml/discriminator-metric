{
 "cells": [
  {
   "cell_type": "code",
   "execution_count": 1,
   "metadata": {},
   "outputs": [],
   "source": [
    "import os\n",
    "import pandas as pd\n",
    "import numpy as np\n",
    "import awkward0\n",
    "import uproot3_methods"
   ]
  },
  {
   "cell_type": "code",
   "execution_count": 2,
   "metadata": {},
   "outputs": [],
   "source": [
    "import logging\n",
    "logging.basicConfig(level=logging.DEBUG, format='[%(asctime)s] %(levelname)s: %(message)s')"
   ]
  },
  {
   "cell_type": "code",
   "execution_count": 3,
   "metadata": {},
   "outputs": [],
   "source": [
    "def _transform(dataframe, start=0, stop=-1, jet_size=0.8):\n",
    "    from collections import OrderedDict\n",
    "    v = OrderedDict()\n",
    "\n",
    "    df = dataframe.iloc[start:stop]\n",
    "    def _col_list(prefix, max_particles=200):\n",
    "        return ['%s_%d'%(prefix,i) for i in range(max_particles)]\n",
    "    \n",
    "    _px = df[_col_list('PX')].values\n",
    "    _py = df[_col_list('PY')].values\n",
    "    _pz = df[_col_list('PZ')].values\n",
    "    _e = df[_col_list('E')].values\n",
    "    \n",
    "    mask = _e>0\n",
    "    n_particles = np.sum(mask, axis=1)\n",
    "\n",
    "    px = awkward0.JaggedArray.fromcounts(n_particles, _px[mask])\n",
    "    py = awkward0.JaggedArray.fromcounts(n_particles, _py[mask])\n",
    "    pz = awkward0.JaggedArray.fromcounts(n_particles, _pz[mask])\n",
    "    energy = awkward0.JaggedArray.fromcounts(n_particles, _e[mask])\n",
    "\n",
    "    p4 = uproot3_methods.TLorentzVectorArray.from_cartesian(px, py, pz, energy)\n",
    "\n",
    "    print(p4)\n",
    "    pt = p4.pt\n",
    "\n",
    "    jet_p4 = p4.sum()\n",
    "\n",
    "    # outputs\n",
    "    _label = df['is_signal_new'].values\n",
    "    v['label'] = np.stack((_label, 1-_label), axis=-1)\n",
    "    v['train_val_test'] = df['ttv'].values\n",
    "    \n",
    "    v['jet_pt'] = jet_p4.pt\n",
    "    v['jet_eta'] = jet_p4.eta\n",
    "    v['jet_phi'] = jet_p4.phi\n",
    "    v['jet_mass'] = jet_p4.mass\n",
    "    v['n_parts'] = n_particles\n",
    "\n",
    "    v['part_px'] = px\n",
    "    v['part_py'] = py\n",
    "    v['part_pz'] = pz\n",
    "    v['part_energy'] = energy\n",
    "\n",
    "    v['part_pt_log'] = np.log(pt)\n",
    "    v['part_ptrel'] = pt/v['jet_pt']\n",
    "    v['part_logptrel'] = np.log(v['part_ptrel'])\n",
    "\n",
    "    v['part_e_log'] = np.log(energy)\n",
    "    v['part_erel'] = energy/jet_p4.energy\n",
    "    v['part_logerel'] = np.log(v['part_erel'])\n",
    "\n",
    "    v['part_raw_etarel'] = (p4.eta - v['jet_eta'])\n",
    "    _jet_etasign = np.sign(v['jet_eta'])\n",
    "    _jet_etasign[_jet_etasign==0] = 1\n",
    "    v['part_etarel'] = v['part_raw_etarel'] * _jet_etasign\n",
    "\n",
    "    v['part_phirel'] = p4.delta_phi(jet_p4)\n",
    "    v['part_deltaR'] = np.hypot(v['part_etarel'], v['part_phirel'])\n",
    "\n",
    "    def _make_image(var_img, rec, n_pixels = 64, img_ranges = [[-0.8, 0.8], [-0.8, 0.8]]):\n",
    "        wgt = rec[var_img]\n",
    "        x = rec['part_etarel']\n",
    "        y = rec['part_phirel']\n",
    "        img = np.zeros(shape=(len(wgt), n_pixels, n_pixels))\n",
    "        for i in range(len(wgt)):\n",
    "            hist2d, xedges, yedges = np.histogram2d(x[i], y[i], bins=[n_pixels, n_pixels], range=img_ranges, weights=wgt[i])\n",
    "            img[i] = hist2d\n",
    "        return img\n",
    "\n",
    "#     v['img'] = _make_image('part_ptrel', v)\n",
    "\n",
    "    return v"
   ]
  },
  {
   "cell_type": "code",
   "execution_count": 7,
   "metadata": {},
   "outputs": [],
   "source": [
    "def convert(source, destdir, basename, step=None, limit=None):\n",
    "    df = pd.read_hdf(source, key='table')\n",
    "    logging.info('Total events: %s' % str(df.shape[0]))\n",
    "    if limit is not None:\n",
    "        df = df.iloc[0:limit]\n",
    "        logging.info('Restricting to the first %s events:' % str(df.shape[0]))\n",
    "    if step is None:\n",
    "        step = df.shape[0]\n",
    "    idx=-1\n",
    "    while True:\n",
    "        idx+=1\n",
    "        start=idx*step\n",
    "        if start>=df.shape[0]: break\n",
    "        if not os.path.exists(destdir):\n",
    "            os.makedirs(destdir)\n",
    "        output = os.path.join(destdir, '%s_%d.awkd'%(basename, idx))\n",
    "        logging.info(output)\n",
    "        if os.path.exists(output):\n",
    "            logging.warning('... file already exist: continue ...')\n",
    "            continue\n",
    "        v=_transform(df, start=start, stop=start+step)\n",
    "        awkward0.save(output, v, mode='x')"
   ]
  },
  {
   "cell_type": "code",
   "execution_count": 4,
   "metadata": {},
   "outputs": [
    {
     "name": "stdout",
     "output_type": "stream",
     "text": [
      "/home/rd804/ParticleNet\n"
     ]
    }
   ],
   "source": [
    "cd .."
   ]
  },
  {
   "cell_type": "code",
   "execution_count": 5,
   "metadata": {},
   "outputs": [],
   "source": [
    "srcDir = 'data'\n",
    "destDir = 'data/converted'"
   ]
  },
  {
   "cell_type": "code",
   "execution_count": 12,
   "metadata": {},
   "outputs": [
    {
     "name": "stderr",
     "output_type": "stream",
     "text": [
      "[2023-04-07 05:37:00,741] INFO: Total events: 1211000\n",
      "[2023-04-07 05:37:00,744] INFO: data/converted/train_file_0.awkd\n"
     ]
    },
    {
     "name": "stdout",
     "output_type": "stream",
     "text": [
      "[[TLorentzVector(x=-250.35, y=-223.65, z=-334.74, t=474.07) TLorentzVector(x=-48.866, y=-56.791, z=-71.025, t=103.24) TLorentzVector(x=-55.415, y=-49.969, z=-74.236, t=105.26) ... TLorentzVector(x=-0.88906, y=-0.71787, z=-0.7002, t=1.3402) TLorentzVector(x=-0.11787, y=-0.4955, z=-0.89844, t=1.0328) TLorentzVector(x=-0.29766, y=-0.10618, z=-0.28663, t=0.42665)] [TLorentzVector(x=120.06, y=76.852, z=-48.274, t=150.5) TLorentzVector(x=63.802, y=42.755, z=-29.455, t=82.257) TLorentzVector(x=36.763, y=26.991, z=-16.714, t=48.574) ... TLorentzVector(x=0.39235, y=0.25878, z=-0.077853, t=0.47642) TLorentzVector(x=0.41934, y=0.2065, z=-0.25419, t=0.53207) TLorentzVector(x=0.38646, y=0.059892, z=0.10168, t=0.40407)] [TLorentzVector(x=10.428, y=-147.57, z=203.56, t=251.65) TLorentzVector(x=10.718, y=-54.498, z=88.101, t=104.15) TLorentzVector(x=5.7241, y=-43.421, z=64.595, t=78.043) ... TLorentzVector(x=0.24462, y=-0.47074, z=0.77402, t=0.93837) TLorentzVector(x=0.27355, y=-0.36748, z=1.2391, t=1.3211) TLorentzVector(x=0.22242, y=-0.29833, z=0.71482, t=0.80588)] ... [TLorentzVector(x=42.901, y=43.948, z=-0.43682, t=61.418) TLorentzVector(x=31.724, y=32.644, z=-0.4693, t=45.522) TLorentzVector(x=29.731, y=33.514, z=0.17875, t=44.801) ... TLorentzVector(x=0.53511, y=0.53219, z=-0.3366, t=0.82636) TLorentzVector(x=0.30209, y=0.46511, z=-0.02087, t=0.555) TLorentzVector(x=0.082229, y=0.21782, z=0.10776, t=0.25656)] [TLorentzVector(x=12.78, y=-132.7, z=224.64, t=261.22) TLorentzVector(x=52.028, y=-101.15, z=193.05, t=224.07) TLorentzVector(x=17.167, y=-48.013, z=44.343, t=67.574) ... TLorentzVector(x=0.1127, y=-0.25749, z=0.76412, t=0.81417) TLorentzVector(x=-0.069548, y=-0.25684, z=0.54636, t=0.60771) TLorentzVector(x=0.13766, y=-0.16412, z=0.42926, t=0.47974)] [TLorentzVector(x=-32.458, y=-127.96, z=-177.24, t=221) TLorentzVector(x=-16.047, y=-62.677, z=-87.878, t=109.13) TLorentzVector(x=0.39537, y=-48.413, z=-100.12, t=111.21) ... TLorentzVector(x=-0.16909, y=-0.44901, z=-0.38747, t=0.61671) TLorentzVector(x=-0.067717, y=-0.43291, z=-1.0452, t=1.1333) TLorentzVector(x=0.18631, y=-0.33498, z=-0.54752, t=0.66835)]]\n"
     ]
    },
    {
     "name": "stderr",
     "output_type": "stream",
     "text": [
      "/home/rd804/.conda/envs/particlenet_tf/lib/python3.10/site-packages/uproot3_methods/classes/TLorentzVector.py:189: RuntimeWarning: invalid value encountered in sqrt\n",
      "  return self._trymemo(\"mass\", lambda self: self.awkward0.numpy.sqrt(self.mag2))\n"
     ]
    }
   ],
   "source": [
    "# conver training file\n",
    "convert(os.path.join(srcDir, 'train.h5'), destdir=destDir, basename='train_file')"
   ]
  },
  {
   "cell_type": "code",
   "execution_count": 8,
   "metadata": {},
   "outputs": [
    {
     "name": "stderr",
     "output_type": "stream",
     "text": [
      "[2023-04-07 05:32:56,706] INFO: Total events: 403000\n",
      "[2023-04-07 05:32:56,709] INFO: data/converted/val_file_0.awkd\n"
     ]
    },
    {
     "name": "stdout",
     "output_type": "stream",
     "text": [
      "[[TLorentzVector(x=85.228, y=-227.71, z=109.54, t=266.68) TLorentzVector(x=46.856, y=-124.28, z=59.789, t=145.65) TLorentzVector(x=24.653, y=-64.709, z=31.602, t=76.117) ... TLorentzVector(x=0.037146, y=-0.69501, z=0.34333, t=0.77607) TLorentzVector(x=0.3087, y=-0.36873, z=0.60691, t=0.77434) TLorentzVector(x=0.10099, y=-0.3093, z=0.46224, t=0.56527)] [TLorentzVector(x=82.459, y=303.01, z=-224.13, t=385.81) TLorentzVector(x=15.37, y=85.793, z=-62.898, t=107.48) TLorentzVector(x=14.435, y=54.47, z=-40.078, t=69.149) ... TLorentzVector(x=0.095928, y=0.34755, z=-0.28316, t=0.45845) TLorentzVector(x=0.22452, y=0.26034, z=-0.081911, t=0.3534) TLorentzVector(x=0.2848, y=0.19123, z=-0.11261, t=0.36106)] [TLorentzVector(x=-108.09, y=93.248, z=-22.613, t=144.54) TLorentzVector(x=-21.67, y=46.335, z=-49.186, t=70.963) TLorentzVector(x=-19.737, y=36.744, z=-37.797, t=56.287) ... TLorentzVector(x=-0.11548, y=0.49445, z=-0.017129, t=0.50804) TLorentzVector(x=-0.14214, y=0.31359, z=-0.65712, t=0.74186) TLorentzVector(x=-0.13969, y=0.16744, z=-0.196, t=0.2932)] ... [TLorentzVector(x=-57.978, y=-137.33, z=8.6972, t=149.32) TLorentzVector(x=-44.806, y=-56.039, z=29.749, t=77.672) TLorentzVector(x=-24.184, y=-35.99, z=18.823, t=47.27) ... TLorentzVector(x=0.010043, y=-0.71472, z=0.49026, t=0.86676) TLorentzVector(x=0.11455, y=-0.61846, z=0.495, t=0.8004) TLorentzVector(x=-0.38276, y=-0.46145, z=0.14252, t=0.61624)] [TLorentzVector(x=-165.8, y=-74.019, z=58.806, t=190.86) TLorentzVector(x=-105.65, y=-66.629, z=4.2255, t=124.98) TLorentzVector(x=-23.28, y=-39.138, z=-9.3775, t=46.494) ... TLorentzVector(x=-0.31139, y=-0.48961, z=0.23843, t=0.62732) TLorentzVector(x=-0.16365, y=-0.52062, z=0.0040011, t=0.54576) TLorentzVector(x=-0.35828, y=-0.11013, z=-0.11556, t=0.39223)] [TLorentzVector(x=64.562, y=42.024, z=-203.05, t=217.17) TLorentzVector(x=57.328, y=36.736, z=-182.32, t=194.62) TLorentzVector(x=52.191, y=33.798, z=-162.74, t=174.21) ... TLorentzVector(x=0.22035, y=0.39922, z=-1.6129, t=1.6761) TLorentzVector(x=0.23174, y=0.24462, z=-1.4765, t=1.5145) TLorentzVector(x=0.21617, y=0.24061, z=-0.8554, t=0.91451)]]\n"
     ]
    }
   ],
   "source": [
    "# conver validation file\n",
    "convert(os.path.join(srcDir, 'val.h5'), destdir=destDir, basename='val_file')"
   ]
  },
  {
   "cell_type": "code",
   "execution_count": 11,
   "metadata": {},
   "outputs": [
    {
     "name": "stderr",
     "output_type": "stream",
     "text": [
      "[2023-04-07 05:35:45,944] INFO: Total events: 404000\n",
      "[2023-04-07 05:35:45,947] INFO: data/converted/test_file_0.awkd\n"
     ]
    },
    {
     "name": "stdout",
     "output_type": "stream",
     "text": [
      "[[TLorentzVector(x=-172.34, y=110.13, z=-76.504, t=218.36) TLorentzVector(x=-111.32, y=93.168, z=-50.391, t=153.66) TLorentzVector(x=-56.524, y=46.127, z=-23.695, t=76.708) ... TLorentzVector(x=-0.89466, y=0.45467, z=-0.8631, t=1.3237) TLorentzVector(x=-0.59297, y=0.69404, z=-0.96427, t=1.3278) TLorentzVector(x=-0.44267, y=0.068935, z=-0.21699, t=0.49779)] [TLorentzVector(x=26.738, y=-91.614, z=76.382, t=122.24) TLorentzVector(x=17.645, y=-93.015, z=75.715, t=121.23) TLorentzVector(x=21.377, y=-68.011, z=55.618, t=90.42) ... TLorentzVector(x=0.32453, y=-0.32586, z=0.31468, t=0.55725) TLorentzVector(x=-0.12391, y=-0.38507, z=0.40464, t=0.57216) TLorentzVector(x=0.072476, y=-0.39063, z=-0.027319, t=0.39824)] [TLorentzVector(x=-97.906, y=79.641, z=-362.43, t=383.77) TLorentzVector(x=-54.921, y=37.994, z=-189.18, t=200.63) TLorentzVector(x=-33.829, y=23.793, z=-116.1, t=123.25) ... TLorentzVector(x=-0.19783, y=0.15493, z=-0.92937, t=0.96274) TLorentzVector(x=-0.11066, y=0.11556, z=-0.7897, t=0.80575) TLorentzVector(x=-0.07535, y=0.075136, z=-0.52798, t=0.53859)] ... [TLorentzVector(x=60.539, y=-63.477, z=27.734, t=91.997) TLorentzVector(x=60.69, y=-61.698, z=34.377, t=93.122) TLorentzVector(x=33.402, y=-39.337, z=43.693, t=67.618) ... TLorentzVector(x=0.50925, y=-0.32441, z=0.065679, t=0.60737) TLorentzVector(x=0.18468, y=-0.54211, z=0.10414, t=0.58209) TLorentzVector(x=0.45258, y=-0.19372, z=0.10978, t=0.50439)] [TLorentzVector(x=35.062, y=125.74, z=22.593, t=132.47) TLorentzVector(x=7.5883, y=55.307, z=25.723, t=61.466) TLorentzVector(x=17.563, y=50.069, z=5.7348, t=53.369) ... TLorentzVector(x=-0.092073, y=0.54143, z=0.33502, t=0.64332) TLorentzVector(x=0.34841, y=0.3669, z=0.3139, t=0.59543) TLorentzVector(x=-0.13834, y=0.45957, z=0.39403, t=0.62097)] [TLorentzVector(x=-46.627, y=25.236, z=79.257, t=95.355) TLorentzVector(x=-36.374, y=28.904, z=73.095, t=86.611) TLorentzVector(x=-39.89, y=11.946, z=64.079, t=76.42) ... TLorentzVector(x=-0.32662, y=0.022795, z=0.54882, t=0.63906) TLorentzVector(x=-0.26184, y=0.13255, z=1.055, t=1.0951) TLorentzVector(x=-0.16951, y=0.14138, z=0.81029, t=0.83982)]]\n"
     ]
    },
    {
     "name": "stderr",
     "output_type": "stream",
     "text": [
      "/home/rd804/.conda/envs/particlenet_tf/lib/python3.10/site-packages/uproot3_methods/classes/TLorentzVector.py:189: RuntimeWarning: invalid value encountered in sqrt\n",
      "  return self._trymemo(\"mass\", lambda self: self.awkward0.numpy.sqrt(self.mag2))\n"
     ]
    }
   ],
   "source": [
    "# conver testing file\n",
    "convert(os.path.join(srcDir, 'test.h5'), destdir=destDir, basename='test_file')"
   ]
  },
  {
   "cell_type": "code",
   "execution_count": null,
   "metadata": {},
   "outputs": [],
   "source": []
  }
 ],
 "metadata": {
  "kernelspec": {
   "display_name": "Python 3",
   "language": "python",
   "name": "python3"
  },
  "language_info": {
   "codemirror_mode": {
    "name": "ipython",
    "version": 3
   },
   "file_extension": ".py",
   "mimetype": "text/x-python",
   "name": "python",
   "nbconvert_exporter": "python",
   "pygments_lexer": "ipython3",
   "version": "3.10.10"
  }
 },
 "nbformat": 4,
 "nbformat_minor": 2
}
