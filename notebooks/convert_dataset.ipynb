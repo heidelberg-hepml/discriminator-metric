{
 "cells": [
  {
   "cell_type": "code",
   "execution_count": 1,
   "metadata": {},
   "outputs": [],
   "source": [
    "import os\n",
    "import pandas as pd\n",
    "import numpy as np\n",
    "import awkward0\n",
    "import uproot3_methods"
   ]
  },
  {
   "cell_type": "code",
   "execution_count": 2,
   "metadata": {},
   "outputs": [],
   "source": [
    "import logging\n",
    "logging.basicConfig(level=logging.DEBUG, format='[%(asctime)s] %(levelname)s: %(message)s')"
   ]
  },
  {
   "cell_type": "code",
   "execution_count": 3,
   "metadata": {},
   "outputs": [
    {
     "name": "stdout",
     "output_type": "stream",
     "text": [
      "/home/rd804/discriminator-metric\n"
     ]
    }
   ],
   "source": [
    "cd .."
   ]
  },
  {
   "cell_type": "code",
   "execution_count": null,
   "metadata": {},
   "outputs": [],
   "source": []
  },
  {
   "cell_type": "code",
   "execution_count": 4,
   "metadata": {},
   "outputs": [],
   "source": [
    "def _transform(data, label, jet_size=0.8):\n",
    "    from collections import OrderedDict\n",
    "    v = OrderedDict()\n",
    "\n",
    "    _e = data[...,0]\n",
    "    _px = data[...,1]\n",
    "    _py = data[...,2]\n",
    "    _pz = data[...,3]\n",
    "    \n",
    "    mask = _e>0\n",
    "    n_particles = np.sum(mask, axis=1)\n",
    "\n",
    "    print('num particles: ',n_particles[0:20])\n",
    "\n",
    "    px = awkward0.JaggedArray.fromcounts(n_particles, _px[mask])\n",
    "    py = awkward0.JaggedArray.fromcounts(n_particles, _py[mask])\n",
    "    pz = awkward0.JaggedArray.fromcounts(n_particles, _pz[mask])\n",
    "    energy = awkward0.JaggedArray.fromcounts(n_particles, _e[mask])\n",
    "\n",
    "    p4 = uproot3_methods.TLorentzVectorArray.from_cartesian(px, py, pz, energy)\n",
    "\n",
    "    #print(p4)\n",
    "    pt = p4.pt\n",
    "\n",
    "    jet_p4 = p4.sum()\n",
    "\n",
    "    # outputs\n",
    "    _label = label\n",
    "    v['label'] = np.stack((_label, 1-_label), axis=-1)\n",
    "    #v['train_val_test'] = df['ttv'].values\n",
    "    \n",
    "    v['jet_pt'] = jet_p4.pt\n",
    "    v['jet_eta'] = jet_p4.eta\n",
    "    v['jet_phi'] = jet_p4.phi\n",
    "    v['jet_mass'] = jet_p4.mass\n",
    "    v['n_parts'] = n_particles\n",
    "\n",
    "    v['part_px'] = px\n",
    "    v['part_py'] = py\n",
    "    v['part_pz'] = pz\n",
    "    v['part_energy'] = energy\n",
    "\n",
    "    v['part_pt_log'] = np.log(pt)\n",
    "    v['part_ptrel'] = pt/v['jet_pt']\n",
    "    v['part_logptrel'] = np.log(v['part_ptrel'])\n",
    "\n",
    "    v['part_e_log'] = np.log(energy)\n",
    "    v['part_erel'] = energy/jet_p4.energy\n",
    "    v['part_logerel'] = np.log(v['part_erel'])\n",
    "\n",
    "    v['part_raw_etarel'] = (p4.eta - v['jet_eta'])\n",
    "    _jet_etasign = np.sign(v['jet_eta'])\n",
    "    _jet_etasign[_jet_etasign==0] = 1\n",
    "    v['part_etarel'] = v['part_raw_etarel'] * _jet_etasign\n",
    "\n",
    "    v['part_phirel'] = p4.delta_phi(jet_p4)\n",
    "    v['part_deltaR'] = np.hypot(v['part_etarel'], v['part_phirel'])\n",
    "\n",
    "    def _make_image(var_img, rec, n_pixels = 64, img_ranges = [[-0.8, 0.8], [-0.8, 0.8]]):\n",
    "        wgt = rec[var_img]\n",
    "        x = rec['part_etarel']\n",
    "        y = rec['part_phirel']\n",
    "        img = np.zeros(shape=(len(wgt), n_pixels, n_pixels))\n",
    "        for i in range(len(wgt)):\n",
    "            hist2d, xedges, yedges = np.histogram2d(x[i], y[i], bins=[n_pixels, n_pixels], range=img_ranges, weights=wgt[i])\n",
    "            img[i] = hist2d\n",
    "        return img\n",
    "\n",
    "#     v['img'] = _make_image('part_ptrel', v)\n",
    "\n",
    "    return v"
   ]
  },
  {
   "cell_type": "code",
   "execution_count": 5,
   "metadata": {},
   "outputs": [],
   "source": [
    "def convert(data,label, destdir, basename, step=None, limit=None):\n",
    "\n",
    "    if not os.path.exists(destdir):\n",
    "        os.makedirs(destdir)\n",
    "    output = os.path.join(destdir, '%s.awkd'%(basename))\n",
    "    logging.info(output)\n",
    "\n",
    "    if os.path.exists(output):\n",
    "        logging.warning('... file already exist: continue ...')\n",
    "        return\n",
    "    v=_transform(data,label)\n",
    "    awkward0.save(output, v, mode='x')"
   ]
  },
  {
   "cell_type": "code",
   "execution_count": null,
   "metadata": {},
   "outputs": [],
   "source": []
  },
  {
   "cell_type": "code",
   "execution_count": 6,
   "metadata": {},
   "outputs": [],
   "source": [
    "srcDir = 'data'\n",
    "destDir = 'data/converted'"
   ]
  },
  {
   "cell_type": "code",
   "execution_count": 7,
   "metadata": {},
   "outputs": [
    {
     "name": "stderr",
     "output_type": "stream",
     "text": [
      "[2023-04-07 07:21:04,632] INFO: data/converted/train_file.awkd\n"
     ]
    },
    {
     "name": "stdout",
     "output_type": "stream",
     "text": [
      "num particles:  [74 57 81 59 33 67 79 47 48 59 71 81 56 73 45 66 90 79 45 71]\n",
      "[[TLorentzVector(x=66.212, y=-6.9782, z=-196.68, t=207.64) TLorentzVector(x=66.005, y=3.5843, z=-202.21, t=212.74) TLorentzVector(x=44.929, y=1.5276, z=-137.48, t=144.64) ... TLorentzVector(x=0.36931, y=-0.012029, z=-1.2045, t=1.2599) TLorentzVector(x=0.3376, y=-0.0093053, z=-1.0557, t=1.1084) TLorentzVector(x=0.31922, y=-0.011996, z=-0.8985, t=0.9536)] [TLorentzVector(x=195.96, y=-1.5747, z=-133.89, t=237.34) TLorentzVector(x=178.72, y=-2.6738, z=-119.5, t=215.01) TLorentzVector(x=103, y=-0.38003, z=-70.825, t=125) ... TLorentzVector(x=0.50616, y=0.038721, z=-0.24888, t=0.56537) TLorentzVector(x=0.39013, y=0.093997, z=-0.21024, t=0.45303) TLorentzVector(x=0.25055, y=-0.026231, z=-0.22375, t=0.33694)] [TLorentzVector(x=153.53, y=-2.4244, z=39.582, t=158.57) TLorentzVector(x=74.888, y=-0.99518, z=19.112, t=77.295) TLorentzVector(x=72.385, y=-0.4772, z=18.806, t=74.789) ... TLorentzVector(x=0.325, y=0.011945, z=-0.02523, t=0.3262) TLorentzVector(x=0.3062, y=-0.10094, z=0.018549, t=0.32295) TLorentzVector(x=0.28014, y=-0.0088536, z=0.17226, t=0.32898)] ... [TLorentzVector(x=143.26, y=-5.7263, z=39.926, t=148.83) TLorentzVector(x=120.92, y=-5.497, z=34.282, t=125.81) TLorentzVector(x=94.552, y=-3.5517, z=26.917, t=98.373) ... TLorentzVector(x=0.79412, y=0.0099871, z=0.073566, t=0.79758) TLorentzVector(x=0.56827, y=-0.030341, z=0.41616, t=0.70501) TLorentzVector(x=0.50879, y=-0.053294, z=0.07604, t=0.51719)] [TLorentzVector(x=131.66, y=-0.96922, z=69.302, t=148.79) TLorentzVector(x=129.91, y=-1.193, z=67.714, t=146.5) TLorentzVector(x=93.071, y=-0.89018, z=49.342, t=105.35) ... TLorentzVector(x=1.2097, y=0.29714, z=0.47689, t=1.3338) TLorentzVector(x=1.1691, y=0.32735, z=0.84499, t=1.4792) TLorentzVector(x=0.4713, y=-0.017016, z=0.2551, t=0.53618)] [TLorentzVector(x=637.66, y=51.136, z=-169.86, t=661.87) TLorentzVector(x=135.34, y=11.398, z=-35.738, t=140.44) TLorentzVector(x=108.26, y=8.2855, z=-28.833, t=112.34) ... TLorentzVector(x=0.56028, y=0.097057, z=-0.2057, t=0.60469) TLorentzVector(x=0.41068, y=-0.020569, z=-0.040155, t=0.41315) TLorentzVector(x=0.25497, y=-0.047744, z=-0.12573, t=0.28826)]]\n"
     ]
    },
    {
     "name": "stderr",
     "output_type": "stream",
     "text": [
      "[2023-04-07 07:21:10,149] INFO: data/converted/val_file.awkd\n"
     ]
    },
    {
     "name": "stdout",
     "output_type": "stream",
     "text": [
      "num particles:  [60 79 41 65 82 45 52 28 57 26 52 40 74 66 81 66 69 36 86 51]\n",
      "[[TLorentzVector(x=89.002, y=-1.6485, z=-93.778, t=129.3) TLorentzVector(x=85.674, y=2.6002, z=-91.634, t=125.47) TLorentzVector(x=66.671, y=1.5471, z=-69.023, t=95.978) ... TLorentzVector(x=1.0376, y=0.18184, z=-1.3726, t=1.7302) TLorentzVector(x=0.9546, y=0.03658, z=-0.83885, t=1.2713) TLorentzVector(x=0.37779, y=-0.0057411, z=-0.30439, t=0.48519)] [TLorentzVector(x=108.05, y=0.89472, z=-1.6208, t=108.06) TLorentzVector(x=87.408, y=0.94948, z=-2.5462, t=87.45) TLorentzVector(x=76.41, y=0.4913, z=-1.6939, t=76.43) ... TLorentzVector(x=0.51269, y=-0.093974, z=-0.059371, t=0.5246) TLorentzVector(x=0.35624, y=0.076259, z=0.074279, t=0.37181) TLorentzVector(x=0.25572, y=0.0024267, z=0.0028248, t=0.25574)] [TLorentzVector(x=286.69, y=2.3893, z=-587.24, t=653.49) TLorentzVector(x=196.91, y=1.6238, z=-407.25, t=452.36) TLorentzVector(x=96.547, y=0.25223, z=-196.3, t=218.76) ... TLorentzVector(x=0.46948, y=0.076203, z=-0.79614, t=0.92739) TLorentzVector(x=0.33008, y=-0.012943, z=-0.71314, t=0.78593) TLorentzVector(x=0.28775, y=-0.069065, z=-0.57326, t=0.64513)] ... [TLorentzVector(x=242.03, y=0.5726, z=152.66, t=286.15) TLorentzVector(x=141.33, y=-0.019169, z=88.725, t=166.87) TLorentzVector(x=137.4, y=0.33688, z=86.44, t=162.33) ... TLorentzVector(x=0.38348, y=-0.011566, z=0.18596, t=0.42635) TLorentzVector(x=0.3647, y=0.048834, z=0.112, t=0.38462) TLorentzVector(x=0.32493, y=-0.011427, z=0.19458, t=0.37891)] [TLorentzVector(x=250.75, y=1.5247, z=376.24, t=452.14) TLorentzVector(x=77.79, y=0.49157, z=117.12, t=140.6) TLorentzVector(x=75.829, y=-2.156, z=92.078, t=119.3) ... TLorentzVector(x=0.61857, y=-0.057931, z=1.0356, t=1.2076) TLorentzVector(x=0.40128, y=0.11483, z=0.50841, t=0.6578) TLorentzVector(x=0.31846, y=0.025088, z=0.27627, t=0.42234)] [TLorentzVector(x=124.13, y=21.286, z=13.1, t=126.62) TLorentzVector(x=113.66, y=-0.60445, z=-24.916, t=116.36) TLorentzVector(x=111.53, y=-0.87213, z=-24.165, t=114.12) ... TLorentzVector(x=0.30631, y=-0.071861, z=-0.15601, t=0.35118) TLorentzVector(x=0.27643, y=-0.076639, z=-0.032339, t=0.28867) TLorentzVector(x=0.25892, y=-0.032635, z=0.039952, t=0.26401)]]\n"
     ]
    }
   ],
   "source": [
    "# conver training file\n",
    "split = ['train', 'val']\n",
    "for s in split:\n",
    "    particle_data = pd.read_hdf('data/jetnet_data.h5', f'particle_data_{s}').values.reshape(-1,150,4)\n",
    "    labels = pd.read_hdf('data/jetnet_data.h5', f'labels_{s}').values\n",
    "    convert(data=particle_data,label=labels, destdir=destDir, basename=f'{s}_file')"
   ]
  },
  {
   "cell_type": "code",
   "execution_count": 8,
   "metadata": {},
   "outputs": [],
   "source": [
    "# conver validation file\n"
   ]
  },
  {
   "cell_type": "code",
   "execution_count": 9,
   "metadata": {},
   "outputs": [],
   "source": [
    "# conver testing file\n"
   ]
  },
  {
   "cell_type": "code",
   "execution_count": null,
   "metadata": {},
   "outputs": [],
   "source": []
  }
 ],
 "metadata": {
  "kernelspec": {
   "display_name": "Python 3",
   "language": "python",
   "name": "python3"
  },
  "language_info": {
   "codemirror_mode": {
    "name": "ipython",
    "version": 3
   },
   "file_extension": ".py",
   "mimetype": "text/x-python",
   "name": "python",
   "nbconvert_exporter": "python",
   "pygments_lexer": "ipython3",
   "version": "3.10.10"
  }
 },
 "nbformat": 4,
 "nbformat_minor": 2
}
